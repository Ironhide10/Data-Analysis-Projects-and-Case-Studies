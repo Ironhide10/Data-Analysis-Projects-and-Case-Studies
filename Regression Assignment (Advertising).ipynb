{
 "cells": [
  {
   "cell_type": "code",
   "execution_count": 1,
   "id": "5214ca4f",
   "metadata": {},
   "outputs": [],
   "source": [
    "import numpy as np\n",
    "import pandas as pd\n",
    "import matplotlib.pyplot as plt\n",
    "import seaborn as sns\n",
    "import warnings\n",
    "warnings.filterwarnings('ignore')"
   ]
  },
  {
   "cell_type": "code",
   "execution_count": 2,
   "id": "0de8c06a",
   "metadata": {},
   "outputs": [
    {
     "data": {
      "text/html": [
       "<div>\n",
       "<style scoped>\n",
       "    .dataframe tbody tr th:only-of-type {\n",
       "        vertical-align: middle;\n",
       "    }\n",
       "\n",
       "    .dataframe tbody tr th {\n",
       "        vertical-align: top;\n",
       "    }\n",
       "\n",
       "    .dataframe thead th {\n",
       "        text-align: right;\n",
       "    }\n",
       "</style>\n",
       "<table border=\"1\" class=\"dataframe\">\n",
       "  <thead>\n",
       "    <tr style=\"text-align: right;\">\n",
       "      <th></th>\n",
       "      <th>Unnamed: 0</th>\n",
       "      <th>TV</th>\n",
       "      <th>radio</th>\n",
       "      <th>newspaper</th>\n",
       "      <th>sales</th>\n",
       "    </tr>\n",
       "  </thead>\n",
       "  <tbody>\n",
       "    <tr>\n",
       "      <th>0</th>\n",
       "      <td>1</td>\n",
       "      <td>230.1</td>\n",
       "      <td>37.8</td>\n",
       "      <td>69.2</td>\n",
       "      <td>22.1</td>\n",
       "    </tr>\n",
       "    <tr>\n",
       "      <th>1</th>\n",
       "      <td>2</td>\n",
       "      <td>44.5</td>\n",
       "      <td>39.3</td>\n",
       "      <td>45.1</td>\n",
       "      <td>10.4</td>\n",
       "    </tr>\n",
       "    <tr>\n",
       "      <th>2</th>\n",
       "      <td>3</td>\n",
       "      <td>17.2</td>\n",
       "      <td>45.9</td>\n",
       "      <td>69.3</td>\n",
       "      <td>9.3</td>\n",
       "    </tr>\n",
       "    <tr>\n",
       "      <th>3</th>\n",
       "      <td>4</td>\n",
       "      <td>151.5</td>\n",
       "      <td>41.3</td>\n",
       "      <td>58.5</td>\n",
       "      <td>18.5</td>\n",
       "    </tr>\n",
       "    <tr>\n",
       "      <th>4</th>\n",
       "      <td>5</td>\n",
       "      <td>180.8</td>\n",
       "      <td>10.8</td>\n",
       "      <td>58.4</td>\n",
       "      <td>12.9</td>\n",
       "    </tr>\n",
       "  </tbody>\n",
       "</table>\n",
       "</div>"
      ],
      "text/plain": [
       "   Unnamed: 0     TV  radio  newspaper  sales\n",
       "0           1  230.1   37.8       69.2   22.1\n",
       "1           2   44.5   39.3       45.1   10.4\n",
       "2           3   17.2   45.9       69.3    9.3\n",
       "3           4  151.5   41.3       58.5   18.5\n",
       "4           5  180.8   10.8       58.4   12.9"
      ]
     },
     "execution_count": 2,
     "metadata": {},
     "output_type": "execute_result"
    }
   ],
   "source": [
    "df=pd.read_csv(\"advertising.csv\")\n",
    "df.head()"
   ]
  },
  {
   "cell_type": "code",
   "execution_count": 3,
   "id": "ebc182a3",
   "metadata": {},
   "outputs": [
    {
     "data": {
      "text/html": [
       "<div>\n",
       "<style scoped>\n",
       "    .dataframe tbody tr th:only-of-type {\n",
       "        vertical-align: middle;\n",
       "    }\n",
       "\n",
       "    .dataframe tbody tr th {\n",
       "        vertical-align: top;\n",
       "    }\n",
       "\n",
       "    .dataframe thead th {\n",
       "        text-align: right;\n",
       "    }\n",
       "</style>\n",
       "<table border=\"1\" class=\"dataframe\">\n",
       "  <thead>\n",
       "    <tr style=\"text-align: right;\">\n",
       "      <th></th>\n",
       "      <th>TV</th>\n",
       "      <th>radio</th>\n",
       "      <th>newspaper</th>\n",
       "      <th>sales</th>\n",
       "    </tr>\n",
       "  </thead>\n",
       "  <tbody>\n",
       "    <tr>\n",
       "      <th>0</th>\n",
       "      <td>230.1</td>\n",
       "      <td>37.8</td>\n",
       "      <td>69.2</td>\n",
       "      <td>22.1</td>\n",
       "    </tr>\n",
       "    <tr>\n",
       "      <th>1</th>\n",
       "      <td>44.5</td>\n",
       "      <td>39.3</td>\n",
       "      <td>45.1</td>\n",
       "      <td>10.4</td>\n",
       "    </tr>\n",
       "    <tr>\n",
       "      <th>2</th>\n",
       "      <td>17.2</td>\n",
       "      <td>45.9</td>\n",
       "      <td>69.3</td>\n",
       "      <td>9.3</td>\n",
       "    </tr>\n",
       "    <tr>\n",
       "      <th>3</th>\n",
       "      <td>151.5</td>\n",
       "      <td>41.3</td>\n",
       "      <td>58.5</td>\n",
       "      <td>18.5</td>\n",
       "    </tr>\n",
       "    <tr>\n",
       "      <th>4</th>\n",
       "      <td>180.8</td>\n",
       "      <td>10.8</td>\n",
       "      <td>58.4</td>\n",
       "      <td>12.9</td>\n",
       "    </tr>\n",
       "  </tbody>\n",
       "</table>\n",
       "</div>"
      ],
      "text/plain": [
       "      TV  radio  newspaper  sales\n",
       "0  230.1   37.8       69.2   22.1\n",
       "1   44.5   39.3       45.1   10.4\n",
       "2   17.2   45.9       69.3    9.3\n",
       "3  151.5   41.3       58.5   18.5\n",
       "4  180.8   10.8       58.4   12.9"
      ]
     },
     "execution_count": 3,
     "metadata": {},
     "output_type": "execute_result"
    }
   ],
   "source": [
    "#to remove unwanted columns\n",
    "df.drop('Unnamed: 0', axis=1, inplace=True)\n",
    "\n",
    "df.head()"
   ]
  },
  {
   "cell_type": "code",
   "execution_count": 4,
   "id": "4aa3f982",
   "metadata": {},
   "outputs": [
    {
     "data": {
      "text/plain": [
       "(200, 4)"
      ]
     },
     "execution_count": 4,
     "metadata": {},
     "output_type": "execute_result"
    }
   ],
   "source": [
    "df.shape"
   ]
  },
  {
   "cell_type": "code",
   "execution_count": 5,
   "id": "f9909e5c",
   "metadata": {},
   "outputs": [
    {
     "data": {
      "text/plain": [
       "TV           0\n",
       "radio        0\n",
       "newspaper    0\n",
       "sales        0\n",
       "dtype: int64"
      ]
     },
     "execution_count": 5,
     "metadata": {},
     "output_type": "execute_result"
    }
   ],
   "source": [
    "df.isnull().sum()"
   ]
  },
  {
   "cell_type": "code",
   "execution_count": 6,
   "id": "011c4e13",
   "metadata": {},
   "outputs": [
    {
     "data": {
      "image/png": "[encoded data removed]",
      "text/plain": [
       "<Figure size 432x288 with 2 Axes>"
      ]
     },
     "metadata": {
      "needs_background": "light"
     },
     "output_type": "display_data"
    }
   ],
   "source": [
    "sns.heatmap(df.isnull())\n",
    "plt.show()"
   ]
  },
  {
   "cell_type": "code",
   "execution_count": 7,
   "id": "c55e44b4",
   "metadata": {},
   "outputs": [
    {
     "data": {
      "text/plain": [
       "TV           float64\n",
       "radio        float64\n",
       "newspaper    float64\n",
       "sales        float64\n",
       "dtype: object"
      ]
     },
     "execution_count": 7,
     "metadata": {},
     "output_type": "execute_result"
    }
   ],
   "source": [
    "df.dtypes"
   ]
  },
  {
   "cell_type": "code",
   "execution_count": 8,
   "id": "d5b42a8a",
   "metadata": {},
   "outputs": [
    {
     "data": {
      "text/plain": [
       "<Figure size 3600x3600 with 0 Axes>"
      ]
     },
     "metadata": {},
     "output_type": "display_data"
    },
    {
     "data": {
      "image/png": "[encoded data removed]",
      "text/plain": [
       "<Figure size 540x180 with 3 Axes>"
      ]
     },
     "metadata": {
      "needs_background": "light"
     },
     "output_type": "display_data"
    }
   ],
   "source": [
    "#check relation between input and output  using scatterplot\n",
    "#input variables: TV, radio and newspaper\n",
    "#output variable: sales\n",
    "plt.figure(figsize=(50,50))\n",
    "\n",
    "sns.pairplot(data=df, x_vars=['TV', 'radio', 'newspaper'], y_vars='sales', kind='scatter')\n",
    "plt.show()"
   ]
  },
  {
   "cell_type": "code",
   "execution_count": 9,
   "id": "f062019f",
   "metadata": {},
   "outputs": [],
   "source": [
    "#Nice upword growth that means as we investment more on TV the sales is also\n",
    "#increasing that means +ve correlation means good +ve correlation between\n",
    "#TV(input) with sales(output)\n",
    "#see the scatter plot radio with sales : - looks better but lot of data is \n",
    "#scattered but scatter data overhere +ve correlation, But correlation is less\n",
    "#as compared to TV\n",
    "#It is very bed correlation means no +ve corr and no -ve corr means no\n",
    "#correlation newspaper with sales because data point are scattered"
   ]
  },
  {
   "cell_type": "code",
   "execution_count": 10,
   "id": "d27608c0",
   "metadata": {},
   "outputs": [
    {
     "data": {
      "image/png": "[encoded data removed]",
      "text/plain": [
       "<Figure size 432x288 with 2 Axes>"
      ]
     },
     "metadata": {
      "needs_background": "light"
     },
     "output_type": "display_data"
    }
   ],
   "source": [
    "#second method: check relation between input and output\n",
    "sns.heatmap(df.corr(),annot=True )\n",
    "plt.show()"
   ]
  },
  {
   "cell_type": "code",
   "execution_count": 11,
   "id": "018c0a84",
   "metadata": {},
   "outputs": [
    {
     "data": {
      "text/html": [
       "<div>\n",
       "<style scoped>\n",
       "    .dataframe tbody tr th:only-of-type {\n",
       "        vertical-align: middle;\n",
       "    }\n",
       "\n",
       "    .dataframe tbody tr th {\n",
       "        vertical-align: top;\n",
       "    }\n",
       "\n",
       "    .dataframe thead th {\n",
       "        text-align: right;\n",
       "    }\n",
       "</style>\n",
       "<table border=\"1\" class=\"dataframe\">\n",
       "  <thead>\n",
       "    <tr style=\"text-align: right;\">\n",
       "      <th></th>\n",
       "      <th>TV</th>\n",
       "      <th>radio</th>\n",
       "      <th>newspaper</th>\n",
       "      <th>sales</th>\n",
       "    </tr>\n",
       "  </thead>\n",
       "  <tbody>\n",
       "    <tr>\n",
       "      <th>count</th>\n",
       "      <td>200.000000</td>\n",
       "      <td>200.000000</td>\n",
       "      <td>200.000000</td>\n",
       "      <td>200.000000</td>\n",
       "    </tr>\n",
       "    <tr>\n",
       "      <th>mean</th>\n",
       "      <td>147.042500</td>\n",
       "      <td>23.264000</td>\n",
       "      <td>30.554000</td>\n",
       "      <td>14.022500</td>\n",
       "    </tr>\n",
       "    <tr>\n",
       "      <th>std</th>\n",
       "      <td>85.854236</td>\n",
       "      <td>14.846809</td>\n",
       "      <td>21.778621</td>\n",
       "      <td>5.217457</td>\n",
       "    </tr>\n",
       "    <tr>\n",
       "      <th>min</th>\n",
       "      <td>0.700000</td>\n",
       "      <td>0.000000</td>\n",
       "      <td>0.300000</td>\n",
       "      <td>1.600000</td>\n",
       "    </tr>\n",
       "    <tr>\n",
       "      <th>25%</th>\n",
       "      <td>74.375000</td>\n",
       "      <td>9.975000</td>\n",
       "      <td>12.750000</td>\n",
       "      <td>10.375000</td>\n",
       "    </tr>\n",
       "    <tr>\n",
       "      <th>50%</th>\n",
       "      <td>149.750000</td>\n",
       "      <td>22.900000</td>\n",
       "      <td>25.750000</td>\n",
       "      <td>12.900000</td>\n",
       "    </tr>\n",
       "    <tr>\n",
       "      <th>75%</th>\n",
       "      <td>218.825000</td>\n",
       "      <td>36.525000</td>\n",
       "      <td>45.100000</td>\n",
       "      <td>17.400000</td>\n",
       "    </tr>\n",
       "    <tr>\n",
       "      <th>max</th>\n",
       "      <td>296.400000</td>\n",
       "      <td>49.600000</td>\n",
       "      <td>114.000000</td>\n",
       "      <td>27.000000</td>\n",
       "    </tr>\n",
       "  </tbody>\n",
       "</table>\n",
       "</div>"
      ],
      "text/plain": [
       "               TV       radio   newspaper       sales\n",
       "count  200.000000  200.000000  200.000000  200.000000\n",
       "mean   147.042500   23.264000   30.554000   14.022500\n",
       "std     85.854236   14.846809   21.778621    5.217457\n",
       "min      0.700000    0.000000    0.300000    1.600000\n",
       "25%     74.375000    9.975000   12.750000   10.375000\n",
       "50%    149.750000   22.900000   25.750000   12.900000\n",
       "75%    218.825000   36.525000   45.100000   17.400000\n",
       "max    296.400000   49.600000  114.000000   27.000000"
      ]
     },
     "execution_count": 11,
     "metadata": {},
     "output_type": "execute_result"
    }
   ],
   "source": [
    "df.describe()"
   ]
  },
  {
   "cell_type": "code",
   "execution_count": 12,
   "id": "10b59f2c",
   "metadata": {},
   "outputs": [
    {
     "data": {
      "text/plain": [
       "-0.06985336213274573"
      ]
     },
     "execution_count": 12,
     "metadata": {},
     "output_type": "execute_result"
    }
   ],
   "source": [
    "df['TV'].skew()"
   ]
  },
  {
   "cell_type": "code",
   "execution_count": 13,
   "id": "b62f268e",
   "metadata": {},
   "outputs": [
    {
     "data": {
      "text/plain": [
       "0.09417463149664404"
      ]
     },
     "execution_count": 13,
     "metadata": {},
     "output_type": "execute_result"
    }
   ],
   "source": [
    "df['radio'].skew()"
   ]
  },
  {
   "cell_type": "code",
   "execution_count": 14,
   "id": "962d10f8",
   "metadata": {},
   "outputs": [
    {
     "data": {
      "text/plain": [
       "0.8947204074986175"
      ]
     },
     "execution_count": 14,
     "metadata": {},
     "output_type": "execute_result"
    }
   ],
   "source": [
    "df['newspaper'].skew()"
   ]
  },
  {
   "cell_type": "code",
   "execution_count": 60,
   "id": "13651cf8",
   "metadata": {},
   "outputs": [
    {
     "data": {
      "text/html": [
       "<div>\n",
       "<style scoped>\n",
       "    .dataframe tbody tr th:only-of-type {\n",
       "        vertical-align: middle;\n",
       "    }\n",
       "\n",
       "    .dataframe tbody tr th {\n",
       "        vertical-align: top;\n",
       "    }\n",
       "\n",
       "    .dataframe thead th {\n",
       "        text-align: right;\n",
       "    }\n",
       "</style>\n",
       "<table border=\"1\" class=\"dataframe\">\n",
       "  <thead>\n",
       "    <tr style=\"text-align: right;\">\n",
       "      <th></th>\n",
       "      <th>TV</th>\n",
       "      <th>radio</th>\n",
       "      <th>newspaper</th>\n",
       "      <th>sales</th>\n",
       "    </tr>\n",
       "  </thead>\n",
       "  <tbody>\n",
       "    <tr>\n",
       "      <th>0</th>\n",
       "      <td>230.1</td>\n",
       "      <td>37.8</td>\n",
       "      <td>69.2</td>\n",
       "      <td>22.1</td>\n",
       "    </tr>\n",
       "    <tr>\n",
       "      <th>1</th>\n",
       "      <td>44.5</td>\n",
       "      <td>39.3</td>\n",
       "      <td>45.1</td>\n",
       "      <td>10.4</td>\n",
       "    </tr>\n",
       "    <tr>\n",
       "      <th>2</th>\n",
       "      <td>17.2</td>\n",
       "      <td>45.9</td>\n",
       "      <td>69.3</td>\n",
       "      <td>9.3</td>\n",
       "    </tr>\n",
       "    <tr>\n",
       "      <th>3</th>\n",
       "      <td>151.5</td>\n",
       "      <td>41.3</td>\n",
       "      <td>58.5</td>\n",
       "      <td>18.5</td>\n",
       "    </tr>\n",
       "    <tr>\n",
       "      <th>4</th>\n",
       "      <td>180.8</td>\n",
       "      <td>10.8</td>\n",
       "      <td>58.4</td>\n",
       "      <td>12.9</td>\n",
       "    </tr>\n",
       "  </tbody>\n",
       "</table>\n",
       "</div>"
      ],
      "text/plain": [
       "      TV  radio  newspaper  sales\n",
       "0  230.1   37.8       69.2   22.1\n",
       "1   44.5   39.3       45.1   10.4\n",
       "2   17.2   45.9       69.3    9.3\n",
       "3  151.5   41.3       58.5   18.5\n",
       "4  180.8   10.8       58.4   12.9"
      ]
     },
     "execution_count": 60,
     "metadata": {},
     "output_type": "execute_result"
    }
   ],
   "source": [
    "#Multiple linear regression\n",
    "#take inputs TV, radio and newspaper and output as sales\n",
    "df.head()"
   ]
  },
  {
   "cell_type": "code",
   "execution_count": 61,
   "id": "30603339",
   "metadata": {},
   "outputs": [],
   "source": [
    "#first method: select input\n",
    "X=df.drop('sales', axis=1)\n",
    "#or X=[['TV', 'radio', 'newspaper']]\n",
    "\n",
    "Y=df['sales']   #selecting output\n"
   ]
  },
  {
   "cell_type": "code",
   "execution_count": 62,
   "id": "6b17c12f",
   "metadata": {},
   "outputs": [
    {
     "data": {
      "text/html": [
       "<div>\n",
       "<style scoped>\n",
       "    .dataframe tbody tr th:only-of-type {\n",
       "        vertical-align: middle;\n",
       "    }\n",
       "\n",
       "    .dataframe tbody tr th {\n",
       "        vertical-align: top;\n",
       "    }\n",
       "\n",
       "    .dataframe thead th {\n",
       "        text-align: right;\n",
       "    }\n",
       "</style>\n",
       "<table border=\"1\" class=\"dataframe\">\n",
       "  <thead>\n",
       "    <tr style=\"text-align: right;\">\n",
       "      <th></th>\n",
       "      <th>TV</th>\n",
       "      <th>radio</th>\n",
       "      <th>newspaper</th>\n",
       "    </tr>\n",
       "  </thead>\n",
       "  <tbody>\n",
       "    <tr>\n",
       "      <th>0</th>\n",
       "      <td>230.1</td>\n",
       "      <td>37.8</td>\n",
       "      <td>69.2</td>\n",
       "    </tr>\n",
       "    <tr>\n",
       "      <th>1</th>\n",
       "      <td>44.5</td>\n",
       "      <td>39.3</td>\n",
       "      <td>45.1</td>\n",
       "    </tr>\n",
       "    <tr>\n",
       "      <th>2</th>\n",
       "      <td>17.2</td>\n",
       "      <td>45.9</td>\n",
       "      <td>69.3</td>\n",
       "    </tr>\n",
       "    <tr>\n",
       "      <th>3</th>\n",
       "      <td>151.5</td>\n",
       "      <td>41.3</td>\n",
       "      <td>58.5</td>\n",
       "    </tr>\n",
       "    <tr>\n",
       "      <th>4</th>\n",
       "      <td>180.8</td>\n",
       "      <td>10.8</td>\n",
       "      <td>58.4</td>\n",
       "    </tr>\n",
       "  </tbody>\n",
       "</table>\n",
       "</div>"
      ],
      "text/plain": [
       "      TV  radio  newspaper\n",
       "0  230.1   37.8       69.2\n",
       "1   44.5   39.3       45.1\n",
       "2   17.2   45.9       69.3\n",
       "3  151.5   41.3       58.5\n",
       "4  180.8   10.8       58.4"
      ]
     },
     "execution_count": 62,
     "metadata": {},
     "output_type": "execute_result"
    }
   ],
   "source": [
    "X.head()"
   ]
  },
  {
   "cell_type": "code",
   "execution_count": 63,
   "id": "5137cca0",
   "metadata": {},
   "outputs": [
    {
     "data": {
      "text/plain": [
       "0    22.1\n",
       "1    10.4\n",
       "2     9.3\n",
       "3    18.5\n",
       "4    12.9\n",
       "Name: sales, dtype: float64"
      ]
     },
     "execution_count": 63,
     "metadata": {},
     "output_type": "execute_result"
    }
   ],
   "source": [
    "Y.head()"
   ]
  },
  {
   "cell_type": "code",
   "execution_count": 64,
   "id": "c53d3db9",
   "metadata": {},
   "outputs": [],
   "source": [
    "#train test split\n",
    "X_train, X_test, Y_train, Y_test=train_test_split(X,Y,test_size=0.3, random_state=1)"
   ]
  },
  {
   "cell_type": "code",
   "execution_count": 65,
   "id": "58817c57",
   "metadata": {},
   "outputs": [
    {
     "data": {
      "text/html": [
       "<div>\n",
       "<style scoped>\n",
       "    .dataframe tbody tr th:only-of-type {\n",
       "        vertical-align: middle;\n",
       "    }\n",
       "\n",
       "    .dataframe tbody tr th {\n",
       "        vertical-align: top;\n",
       "    }\n",
       "\n",
       "    .dataframe thead th {\n",
       "        text-align: right;\n",
       "    }\n",
       "</style>\n",
       "<table border=\"1\" class=\"dataframe\">\n",
       "  <thead>\n",
       "    <tr style=\"text-align: right;\">\n",
       "      <th></th>\n",
       "      <th>TV</th>\n",
       "      <th>radio</th>\n",
       "      <th>newspaper</th>\n",
       "    </tr>\n",
       "  </thead>\n",
       "  <tbody>\n",
       "    <tr>\n",
       "      <th>116</th>\n",
       "      <td>139.2</td>\n",
       "      <td>14.3</td>\n",
       "      <td>25.6</td>\n",
       "    </tr>\n",
       "    <tr>\n",
       "      <th>67</th>\n",
       "      <td>139.3</td>\n",
       "      <td>14.5</td>\n",
       "      <td>10.2</td>\n",
       "    </tr>\n",
       "    <tr>\n",
       "      <th>78</th>\n",
       "      <td>5.4</td>\n",
       "      <td>29.9</td>\n",
       "      <td>9.4</td>\n",
       "    </tr>\n",
       "    <tr>\n",
       "      <th>42</th>\n",
       "      <td>293.6</td>\n",
       "      <td>27.7</td>\n",
       "      <td>1.8</td>\n",
       "    </tr>\n",
       "    <tr>\n",
       "      <th>17</th>\n",
       "      <td>281.4</td>\n",
       "      <td>39.6</td>\n",
       "      <td>55.8</td>\n",
       "    </tr>\n",
       "  </tbody>\n",
       "</table>\n",
       "</div>"
      ],
      "text/plain": [
       "        TV  radio  newspaper\n",
       "116  139.2   14.3       25.6\n",
       "67   139.3   14.5       10.2\n",
       "78     5.4   29.9        9.4\n",
       "42   293.6   27.7        1.8\n",
       "17   281.4   39.6       55.8"
      ]
     },
     "execution_count": 65,
     "metadata": {},
     "output_type": "execute_result"
    }
   ],
   "source": [
    "X_train.head()"
   ]
  },
  {
   "cell_type": "code",
   "execution_count": 66,
   "id": "f07dd996",
   "metadata": {},
   "outputs": [],
   "source": [
    "lr = LinearRegression()"
   ]
  },
  {
   "cell_type": "code",
   "execution_count": 67,
   "id": "037d5b28",
   "metadata": {},
   "outputs": [
    {
     "data": {
      "text/plain": [
       "LinearRegression()"
      ]
     },
     "execution_count": 67,
     "metadata": {},
     "output_type": "execute_result"
    }
   ],
   "source": [
    "lr.fit(X_train,Y_train)"
   ]
  },
  {
   "cell_type": "code",
   "execution_count": 68,
   "id": "0cb61a68",
   "metadata": {},
   "outputs": [
    {
     "data": {
      "text/plain": [
       "array([0.04695205, 0.17658644, 0.00185115])"
      ]
     },
     "execution_count": 68,
     "metadata": {},
     "output_type": "execute_result"
    }
   ],
   "source": [
    "#check slope and intercept\n",
    "lr.coef_"
   ]
  },
  {
   "cell_type": "code",
   "execution_count": 69,
   "id": "41707490",
   "metadata": {},
   "outputs": [
    {
     "data": {
      "text/plain": [
       "2.937215734690609"
      ]
     },
     "execution_count": 69,
     "metadata": {},
     "output_type": "execute_result"
    }
   ],
   "source": [
    "lr.intercept_"
   ]
  },
  {
   "cell_type": "code",
   "execution_count": 70,
   "id": "622182b8",
   "metadata": {},
   "outputs": [],
   "source": [
    "#find the predicted output\n",
    "#test the model with test data\n",
    "Y_pred=lr.predict(X_test)"
   ]
  },
  {
   "cell_type": "code",
   "execution_count": 71,
   "id": "a91ac546",
   "metadata": {},
   "outputs": [
    {
     "name": "stdout",
     "output_type": "stream",
     "text": [
      "mean squared error: 1.9289249074665713\n"
     ]
    }
   ],
   "source": [
    "print('mean squared error:', mean_squared_error(Y_test,Y_pred))"
   ]
  },
  {
   "cell_type": "code",
   "execution_count": 72,
   "id": "9655bcea",
   "metadata": {},
   "outputs": [
    {
     "name": "stdout",
     "output_type": "stream",
     "text": [
      "1.3888574107756964\n"
     ]
    }
   ],
   "source": [
    "mse = mean_squared_error(Y_test,Y_pred)\n",
    "rmse = np.sqrt(mse)\n",
    "print(rmse)"
   ]
  },
  {
   "cell_type": "code",
   "execution_count": 73,
   "id": "11e7ec2f",
   "metadata": {},
   "outputs": [
    {
     "name": "stdout",
     "output_type": "stream",
     "text": [
      "R2-score: 0.9224605706201435\n"
     ]
    }
   ],
   "source": [
    "print('R2-score:', r2_score(Y_test,Y_pred))"
   ]
  },
  {
   "cell_type": "code",
   "execution_count": 74,
   "id": "13e62df3",
   "metadata": {},
   "outputs": [],
   "source": [
    "#R2 score is close to 1 which means it is a good score and MSE is also very low"
   ]
  },
  {
   "cell_type": "markdown",
   "id": "3a87699e",
   "metadata": {},
   "source": [
    "# Assumptions of Linear Regression"
   ]
  },
  {
   "cell_type": "markdown",
   "id": "bf9d8544",
   "metadata": {},
   "source": [
    "There are 4 assumptions of Linear Regression:\n",
    "\n",
    "1. There should not be multicolinearity in linear regression.\n",
    "2. There should be a linear relation between input and output.\n",
    "3. The linear relation should be homoskedastic and not hetroskedastic.\n",
    "4. Residual should be normally distributed curve. (means skewness should be low)"
   ]
  },
  {
   "cell_type": "code",
   "execution_count": 75,
   "id": "42a16095",
   "metadata": {},
   "outputs": [],
   "source": [
    "#First solve multicolinearity condition:\n",
    "#Multicolinearity means if an input is correlated with another input."
   ]
  },
  {
   "cell_type": "code",
   "execution_count": 76,
   "id": "f34eb9b8",
   "metadata": {},
   "outputs": [
    {
     "data": {
      "image/png": "[encoded data removed]",
      "text/plain": [
       "<Figure size 432x288 with 2 Axes>"
      ]
     },
     "metadata": {
      "needs_background": "light"
     },
     "output_type": "display_data"
    }
   ],
   "source": [
    "sns.heatmap(df.corr(), annot=True)\n",
    "plt.show()"
   ]
  },
  {
   "cell_type": "markdown",
   "id": "2f2e440e",
   "metadata": {},
   "source": [
    "As newspaper and radio have a correlation of 0.35, we have to eliminate one of them.\n",
    "\n",
    "Radio(0.58) has a better correlation with sales(output) than newspaper(0.23), so we drop newspaper as we cannot have multicolinearity "
   ]
  },
  {
   "cell_type": "code",
   "execution_count": 77,
   "id": "c829d47c",
   "metadata": {},
   "outputs": [],
   "source": [
    "#Now we take only TV and radio as inputs\n",
    "X=df[['TV', 'radio']]\n",
    "Y=df['sales']"
   ]
  },
  {
   "cell_type": "code",
   "execution_count": 78,
   "id": "e115d967",
   "metadata": {},
   "outputs": [],
   "source": [
    "#train test split\n",
    "X_train, X_test, Y_train, Y_test=train_test_split(X,Y,test_size=0.3, random_state=1)"
   ]
  },
  {
   "cell_type": "code",
   "execution_count": 79,
   "id": "1d7a1542",
   "metadata": {},
   "outputs": [],
   "source": [
    "lr=LinearRegression()"
   ]
  },
  {
   "cell_type": "code",
   "execution_count": 80,
   "id": "a29fbd9d",
   "metadata": {},
   "outputs": [
    {
     "data": {
      "text/plain": [
       "LinearRegression()"
      ]
     },
     "execution_count": 80,
     "metadata": {},
     "output_type": "execute_result"
    }
   ],
   "source": [
    "lr.fit(X_train, Y_train)"
   ]
  },
  {
   "cell_type": "code",
   "execution_count": 81,
   "id": "cae6e6c7",
   "metadata": {},
   "outputs": [
    {
     "data": {
      "text/plain": [
       "array([0.04697554, 0.17765046])"
      ]
     },
     "execution_count": 81,
     "metadata": {},
     "output_type": "execute_result"
    }
   ],
   "source": [
    "m=lr.coef_\n",
    "m"
   ]
  },
  {
   "cell_type": "code",
   "execution_count": 82,
   "id": "1ebca636",
   "metadata": {},
   "outputs": [
    {
     "data": {
      "text/plain": [
       "2.9647671191401574"
      ]
     },
     "execution_count": 82,
     "metadata": {},
     "output_type": "execute_result"
    }
   ],
   "source": [
    "c=lr.intercept_\n",
    "c"
   ]
  },
  {
   "cell_type": "code",
   "execution_count": 83,
   "id": "734e3f97",
   "metadata": {},
   "outputs": [
    {
     "data": {
      "text/plain": [
       "array([21.6786746 , 16.43892004,  7.70903733, 17.92158421, 18.67111499,\n",
       "       23.74835071, 16.24962798, 13.37657045,  9.12364788, 17.27585015,\n",
       "       14.40513872,  9.85730919, 17.31402746, 16.61437382, 15.02857874,\n",
       "       15.42489496, 12.42021473, 17.34892466, 11.09570896, 18.10320281,\n",
       "        9.38655615, 12.65171582,  8.70947008, 10.49704698, 11.35942404,\n",
       "       15.03043294,  9.73268033, 19.46660993, 18.26160716, 17.21035792,\n",
       "       21.60669421, 14.58454377, 16.32136242, 12.3456783 , 19.99853614,\n",
       "       15.38120487, 14.01613968, 10.05601014, 20.94792024,  7.45626202,\n",
       "        3.65120693,  7.26465144,  5.99278035, 18.39717578,  8.2996665 ,\n",
       "       14.13011074, 14.95229617, 20.37261349, 20.60678937, 19.48376432,\n",
       "       24.08819667, 14.89416249,  6.71850002, 19.74995269, 18.99448081,\n",
       "       12.52042181, 14.18823598,  6.09331077, 15.39558485,  9.58586241])"
      ]
     },
     "execution_count": 83,
     "metadata": {},
     "output_type": "execute_result"
    }
   ],
   "source": [
    "#Test the model\n",
    "Y_pred=lr.predict(X_test)\n",
    "Y_pred"
   ]
  },
  {
   "cell_type": "code",
   "execution_count": 84,
   "id": "bcfd70ff",
   "metadata": {},
   "outputs": [
    {
     "name": "stdout",
     "output_type": "stream",
     "text": [
      "mean squared error: 1.9147050289721796\n"
     ]
    }
   ],
   "source": [
    "print('mean squared error:', mean_squared_error(Y_test,Y_pred))"
   ]
  },
  {
   "cell_type": "code",
   "execution_count": 85,
   "id": "9c84da2a",
   "metadata": {},
   "outputs": [
    {
     "name": "stdout",
     "output_type": "stream",
     "text": [
      "Root mean squared error:  1.3837286688408894\n"
     ]
    }
   ],
   "source": [
    "mse = mean_squared_error(Y_test,Y_pred)\n",
    "rmse = np.sqrt(mse)\n",
    "print('Root mean squared error: ',rmse)"
   ]
  },
  {
   "cell_type": "code",
   "execution_count": 86,
   "id": "7cb7d6f7",
   "metadata": {},
   "outputs": [
    {
     "name": "stdout",
     "output_type": "stream",
     "text": [
      "R2-score: 0.9230321850256801\n"
     ]
    }
   ],
   "source": [
    "print('R2-score:', r2_score(Y_test,Y_pred))"
   ]
  },
  {
   "cell_type": "markdown",
   "id": "6a817160",
   "metadata": {},
   "source": [
    "2nd Assumption: Linear relation"
   ]
  },
  {
   "cell_type": "markdown",
   "id": "e49acc17",
   "metadata": {},
   "source": [
    " when does linear regression  do best work ? \n",
    " where got better relationship \n",
    " \n",
    " we cannot see 3D graph on system so we have some hack(trick) , how to \n",
    " check input and output both are related or not\n",
    " we calculate the residual (this is error means \n",
    " Residual =(actual output-predicted output)"
   ]
  },
  {
   "cell_type": "code",
   "execution_count": 87,
   "id": "26ccbfbc",
   "metadata": {},
   "outputs": [
    {
     "name": "stdout",
     "output_type": "stream",
     "text": [
      "58     2.121325\n",
      "40     0.161080\n",
      "34     1.790963\n",
      "102   -3.121584\n",
      "184   -1.071115\n",
      "Name: sales, dtype: float64\n"
     ]
    }
   ],
   "source": [
    "#check linear relationship between inputs and output\n",
    "\n",
    "#find residual\n",
    "residual= Y_test-Y_pred\n",
    "print(residual.head())"
   ]
  },
  {
   "cell_type": "code",
   "execution_count": 88,
   "id": "c669f82c",
   "metadata": {},
   "outputs": [
    {
     "data": {
      "text/html": [
       "<div>\n",
       "<style scoped>\n",
       "    .dataframe tbody tr th:only-of-type {\n",
       "        vertical-align: middle;\n",
       "    }\n",
       "\n",
       "    .dataframe tbody tr th {\n",
       "        vertical-align: top;\n",
       "    }\n",
       "\n",
       "    .dataframe thead th {\n",
       "        text-align: right;\n",
       "    }\n",
       "</style>\n",
       "<table border=\"1\" class=\"dataframe\">\n",
       "  <thead>\n",
       "    <tr style=\"text-align: right;\">\n",
       "      <th></th>\n",
       "      <th>Y_pred</th>\n",
       "      <th>Residual</th>\n",
       "    </tr>\n",
       "  </thead>\n",
       "  <tbody>\n",
       "    <tr>\n",
       "      <th>58</th>\n",
       "      <td>21.678675</td>\n",
       "      <td>2.121325</td>\n",
       "    </tr>\n",
       "    <tr>\n",
       "      <th>40</th>\n",
       "      <td>16.438920</td>\n",
       "      <td>0.161080</td>\n",
       "    </tr>\n",
       "    <tr>\n",
       "      <th>34</th>\n",
       "      <td>7.709037</td>\n",
       "      <td>1.790963</td>\n",
       "    </tr>\n",
       "    <tr>\n",
       "      <th>102</th>\n",
       "      <td>17.921584</td>\n",
       "      <td>-3.121584</td>\n",
       "    </tr>\n",
       "    <tr>\n",
       "      <th>184</th>\n",
       "      <td>18.671115</td>\n",
       "      <td>-1.071115</td>\n",
       "    </tr>\n",
       "  </tbody>\n",
       "</table>\n",
       "</div>"
      ],
      "text/plain": [
       "        Y_pred  Residual\n",
       "58   21.678675  2.121325\n",
       "40   16.438920  0.161080\n",
       "34    7.709037  1.790963\n",
       "102  17.921584 -3.121584\n",
       "184  18.671115 -1.071115"
      ]
     },
     "execution_count": 88,
     "metadata": {},
     "output_type": "execute_result"
    }
   ],
   "source": [
    "dict={'Y_pred': Y_pred, 'Residual': residual}\n",
    "df1=pd.DataFrame(dict)\n",
    "df1.head()"
   ]
  },
  {
   "cell_type": "code",
   "execution_count": 89,
   "id": "99c5a499",
   "metadata": {},
   "outputs": [
    {
     "data": {
      "image/png": "[encoded data removed]",
      "text/plain": [
       "<Figure size 432x288 with 1 Axes>"
      ]
     },
     "metadata": {
      "needs_background": "light"
     },
     "output_type": "display_data"
    }
   ],
   "source": [
    "#Visaulize scatterplot between Y_pred and residual\n",
    "sns.scatterplot(data=df1, x='Residual', y='Y_pred' )\n",
    "plt.show()"
   ]
  },
  {
   "cell_type": "markdown",
   "id": "ffc3bc33",
   "metadata": {},
   "source": [
    "2nd assumption is not fulfilled as there is no linear relationship between input and output according to the above scatterplot.\n"
   ]
  },
  {
   "cell_type": "markdown",
   "id": "41fd6e95",
   "metadata": {},
   "source": [
    "The third assumption is based on the 2nd assumption so the 3rd assumption also fails."
   ]
  },
  {
   "cell_type": "code",
   "execution_count": 90,
   "id": "839d0cb2",
   "metadata": {},
   "outputs": [],
   "source": [
    "#3rd Assumption : -  if occur linear relation then next check relation is \n",
    "#homoskedatik, not a heteroskedastik \n",
    "#but no found any linear relation means\n",
    "#not satify 3rd assumption\n",
    "#means 3rd Assumption totally depend on Second Assumption\n",
    "#Homoskedatik means datapoints close each others\n",
    "#Heteroskedastik means datapoints not close each others"
   ]
  },
  {
   "cell_type": "code",
   "execution_count": 91,
   "id": "98d09a21",
   "metadata": {},
   "outputs": [],
   "source": [
    "#4. Assumption of linear regression : - Residual should be normally distributed\n",
    "#curve means data should be euqally divide on both sides.\n",
    "#normal distributed curve then use inbuilt function displot() of seaborn\n",
    "#library ,distplot is also known as frequency graph\n",
    "#use distplot()"
   ]
  },
  {
   "cell_type": "code",
   "execution_count": 92,
   "id": "9e988988",
   "metadata": {},
   "outputs": [
    {
     "name": "stdout",
     "output_type": "stream",
     "text": [
      "-1.093518163944734\n"
     ]
    },
    {
     "data": {
      "image/png": "[encoded data removed]",
      "text/plain": [
       "<Figure size 432x288 with 1 Axes>"
      ]
     },
     "metadata": {
      "needs_background": "light"
     },
     "output_type": "display_data"
    }
   ],
   "source": [
    "sns.histplot(residual)\n",
    "print(residual.skew())\n",
    "plt.show()"
   ]
  },
  {
   "cell_type": "code",
   "execution_count": 93,
   "id": "daadefa2",
   "metadata": {},
   "outputs": [
    {
     "data": {
      "image/png": "[encoded data removed]",
      "text/plain": [
       "<Figure size 432x288 with 1 Axes>"
      ]
     },
     "metadata": {
      "needs_background": "light"
     },
     "output_type": "display_data"
    }
   ],
   "source": [
    "#distplot\n",
    "sns.distplot(residual)\n",
    "plt.show()"
   ]
  },
  {
   "cell_type": "code",
   "execution_count": 94,
   "id": "891a5853",
   "metadata": {},
   "outputs": [],
   "source": [
    "#Polynomial Linear Regression\n",
    "#when 2 or more assumptions fail then we use polynomial linear regression\n",
    "#We will increase the degree of input\n",
    "#here inputs are TV and Radio and output is sales\n"
   ]
  },
  {
   "cell_type": "code",
   "execution_count": 95,
   "id": "95709b62",
   "metadata": {},
   "outputs": [],
   "source": [
    "#Increase degree of input of our dataset \n",
    "#Input : TV and radio means X1=TV X2=radio  and output Y=sales\n",
    "#Y=m1*(X1*2)+m2(X1*1)+m3(X2*2)+m4(X2**1)+c\n",
    "#equation Y=m1*TV*2+m2*TV+m3*radio*2+m4*radio+b\n",
    "#we work on dataset \n",
    "#apply polynomial linear regression means increase the degree of independent\n",
    "#variable X means degree=2 \n",
    "#equation : ax2+bx+c=0  here 2 inputs ax1*2+bx1+cx2*2+dx2+e\n",
    "#here we have 2 inputs : - X=TV,radio means X1=\"TV\" and X2=\"radio\"\n",
    "#eq. m1*TV*2+m2*TV1+m3*radio2+m4*radio*1+b"
   ]
  },
  {
   "cell_type": "code",
   "execution_count": 96,
   "id": "3e23765a",
   "metadata": {},
   "outputs": [],
   "source": [
    "X=df[['TV', 'radio']]\n",
    "Y=df['sales']\n"
   ]
  },
  {
   "cell_type": "code",
   "execution_count": 97,
   "id": "f822ef0d",
   "metadata": {},
   "outputs": [],
   "source": [
    "#increase the degree of input variable\n",
    "#take degree of input=2\n",
    "#call PolynomialFeatures inbuilt class\n",
    "from sklearn.preprocessing import PolynomialFeatures"
   ]
  },
  {
   "cell_type": "code",
   "execution_count": 98,
   "id": "4f8de76e",
   "metadata": {},
   "outputs": [],
   "source": [
    "#create object of Polynomialfeatures class and give degree of input\n",
    "#pf=PolynomialFeatures(2)\n",
    "#as degree 2 failed we will increase it to 3\n",
    "pf=PolynomialFeatures(3)"
   ]
  },
  {
   "cell_type": "code",
   "execution_count": 99,
   "id": "7ed83a78",
   "metadata": {},
   "outputs": [],
   "source": [
    "X_poly=pf.fit_transform(X)      #m1*TV^2+m2*TV+m3*radio^2+m4*radio+c\n",
    "#fit_transform() inbuilt method converts into numpy 2d array"
   ]
  },
  {
   "cell_type": "code",
   "execution_count": 100,
   "id": "7c62c435",
   "metadata": {},
   "outputs": [
    {
     "data": {
      "text/plain": [
       "array([[1.00000000e+00, 2.30100000e+02, 3.78000000e+01, ...,\n",
       "        2.00135918e+06, 3.28776084e+05, 5.40101520e+04],\n",
       "       [1.00000000e+00, 4.45000000e+01, 3.93000000e+01, ...,\n",
       "        7.78238250e+04, 6.87298050e+04, 6.06984570e+04],\n",
       "       [1.00000000e+00, 1.72000000e+01, 4.59000000e+01, ...,\n",
       "        1.35790560e+04, 3.62371320e+04, 9.67025790e+04],\n",
       "       ...,\n",
       "       [1.00000000e+00, 1.77000000e+02, 9.30000000e+00, ...,\n",
       "        2.91359700e+05, 1.53087300e+04, 8.04357000e+02],\n",
       "       [1.00000000e+00, 2.83600000e+02, 4.20000000e+01, ...,\n",
       "        3.37801632e+06, 5.00270400e+05, 7.40880000e+04],\n",
       "       [1.00000000e+00, 2.32100000e+02, 8.60000000e+00, ...,\n",
       "        4.63285526e+05, 1.71661160e+04, 6.36056000e+02]])"
      ]
     },
     "execution_count": 100,
     "metadata": {},
     "output_type": "execute_result"
    }
   ],
   "source": [
    "X_poly"
   ]
  },
  {
   "cell_type": "code",
   "execution_count": 101,
   "id": "c0bdb189",
   "metadata": {},
   "outputs": [],
   "source": [
    "#train test split\n",
    "X_train, X_test, Y_train, Y_test=train_test_split(X_poly,Y,test_size=0.2, random_state=1)"
   ]
  },
  {
   "cell_type": "code",
   "execution_count": 102,
   "id": "ac90db9e",
   "metadata": {},
   "outputs": [],
   "source": [
    "#train the model\n",
    "lr=LinearRegression()"
   ]
  },
  {
   "cell_type": "code",
   "execution_count": 103,
   "id": "68698f90",
   "metadata": {},
   "outputs": [
    {
     "data": {
      "text/plain": [
       "LinearRegression()"
      ]
     },
     "execution_count": 103,
     "metadata": {},
     "output_type": "execute_result"
    }
   ],
   "source": [
    "lr.fit(X_train,Y_train)"
   ]
  },
  {
   "cell_type": "code",
   "execution_count": 104,
   "id": "d82673fc",
   "metadata": {},
   "outputs": [],
   "source": [
    "#test the model\n",
    "Y_pred=lr.predict(X_test)"
   ]
  },
  {
   "cell_type": "code",
   "execution_count": 105,
   "id": "399547b9",
   "metadata": {},
   "outputs": [
    {
     "data": {
      "text/plain": [
       "array([ 0.00000000e+00,  8.82441986e-02,  3.49860246e-02, -4.42813296e-04,\n",
       "        1.33023344e-03, -8.30299505e-04,  7.88824020e-07, -8.50924178e-07,\n",
       "       -9.90404914e-07,  1.74195188e-05])"
      ]
     },
     "execution_count": 105,
     "metadata": {},
     "output_type": "execute_result"
    }
   ],
   "source": [
    "lr.coef_"
   ]
  },
  {
   "cell_type": "code",
   "execution_count": 106,
   "id": "8c41398b",
   "metadata": {},
   "outputs": [
    {
     "data": {
      "text/plain": [
       "4.2291072755109145"
      ]
     },
     "execution_count": 106,
     "metadata": {},
     "output_type": "execute_result"
    }
   ],
   "source": [
    "lr.intercept_"
   ]
  },
  {
   "cell_type": "code",
   "execution_count": 107,
   "id": "613400c7",
   "metadata": {},
   "outputs": [
    {
     "name": "stdout",
     "output_type": "stream",
     "text": [
      "mean squared error: 0.15324842568855504\n",
      "Root mean squared error: 0.3914695718552785\n"
     ]
    }
   ],
   "source": [
    "mse=mean_squared_error(Y_test,Y_pred)\n",
    "rmse=np.sqrt(mse)\n",
    "print('mean squared error:', mse)\n",
    "print('Root mean squared error:', rmse)"
   ]
  },
  {
   "cell_type": "code",
   "execution_count": 108,
   "id": "6ee34bcc",
   "metadata": {},
   "outputs": [],
   "source": [
    "#we can see that the error has reduced as compared to the previous model"
   ]
  },
  {
   "cell_type": "code",
   "execution_count": 109,
   "id": "d184703d",
   "metadata": {},
   "outputs": [
    {
     "name": "stdout",
     "output_type": "stream",
     "text": [
      "R2-score: 0.9917493901618984\n"
     ]
    }
   ],
   "source": [
    "print('R2-score:', r2_score(Y_test,Y_pred))"
   ]
  },
  {
   "cell_type": "code",
   "execution_count": 110,
   "id": "58ce488f",
   "metadata": {},
   "outputs": [
    {
     "data": {
      "image/png": "[encoded data removed]",
      "text/plain": [
       "<Figure size 432x288 with 1 Axes>"
      ]
     },
     "metadata": {
      "needs_background": "light"
     },
     "output_type": "display_data"
    }
   ],
   "source": [
    "#Work on remaining 3 assumptions\n",
    "#1. check linear relation between input and output: use trick\n",
    "residual=Y_test-Y_pred\n",
    "#create scatter plot between Y_pred and rresidual\n",
    "sns.scatterplot(Y_pred,residual)\n",
    "plt.show()"
   ]
  },
  {
   "cell_type": "code",
   "execution_count": 111,
   "id": "95d36756",
   "metadata": {},
   "outputs": [
    {
     "data": {
      "text/html": [
       "<div>\n",
       "<style scoped>\n",
       "    .dataframe tbody tr th:only-of-type {\n",
       "        vertical-align: middle;\n",
       "    }\n",
       "\n",
       "    .dataframe tbody tr th {\n",
       "        vertical-align: top;\n",
       "    }\n",
       "\n",
       "    .dataframe thead th {\n",
       "        text-align: right;\n",
       "    }\n",
       "</style>\n",
       "<table border=\"1\" class=\"dataframe\">\n",
       "  <thead>\n",
       "    <tr style=\"text-align: right;\">\n",
       "      <th></th>\n",
       "      <th>Y_pred</th>\n",
       "      <th>Residual</th>\n",
       "    </tr>\n",
       "  </thead>\n",
       "  <tbody>\n",
       "    <tr>\n",
       "      <th>58</th>\n",
       "      <td>21.678675</td>\n",
       "      <td>2.121325</td>\n",
       "    </tr>\n",
       "    <tr>\n",
       "      <th>40</th>\n",
       "      <td>16.438920</td>\n",
       "      <td>0.161080</td>\n",
       "    </tr>\n",
       "    <tr>\n",
       "      <th>34</th>\n",
       "      <td>7.709037</td>\n",
       "      <td>1.790963</td>\n",
       "    </tr>\n",
       "    <tr>\n",
       "      <th>102</th>\n",
       "      <td>17.921584</td>\n",
       "      <td>-3.121584</td>\n",
       "    </tr>\n",
       "    <tr>\n",
       "      <th>184</th>\n",
       "      <td>18.671115</td>\n",
       "      <td>-1.071115</td>\n",
       "    </tr>\n",
       "  </tbody>\n",
       "</table>\n",
       "</div>"
      ],
      "text/plain": [
       "        Y_pred  Residual\n",
       "58   21.678675  2.121325\n",
       "40   16.438920  0.161080\n",
       "34    7.709037  1.790963\n",
       "102  17.921584 -3.121584\n",
       "184  18.671115 -1.071115"
      ]
     },
     "execution_count": 111,
     "metadata": {},
     "output_type": "execute_result"
    }
   ],
   "source": [
    "dic={'Y_pred': Y_pred, 'residual': residual}\n",
    "df_new=pd.DataFrame(dict)\n",
    "df_new.head()"
   ]
  },
  {
   "cell_type": "code",
   "execution_count": 112,
   "id": "4dee8c8e",
   "metadata": {},
   "outputs": [
    {
     "data": {
      "image/png": "[encoded data removed]",
      "text/plain": [
       "<Figure size 432x288 with 2 Axes>"
      ]
     },
     "metadata": {
      "needs_background": "light"
     },
     "output_type": "display_data"
    }
   ],
   "source": [
    "sns.heatmap(df_new.corr(), annot=True)\n",
    "plt.show()"
   ]
  },
  {
   "cell_type": "code",
   "execution_count": 113,
   "id": "e611b335",
   "metadata": {},
   "outputs": [
    {
     "name": "stdout",
     "output_type": "stream",
     "text": [
      "0.1722064465263987\n"
     ]
    },
    {
     "data": {
      "image/png": "[encoded data removed]",
      "text/plain": [
       "<Figure size 432x288 with 1 Axes>"
      ]
     },
     "metadata": {
      "needs_background": "light"
     },
     "output_type": "display_data"
    },
    {
     "data": {
      "image/png": "[encoded data removed]",
      "text/plain": [
       "<Figure size 432x288 with 1 Axes>"
      ]
     },
     "metadata": {
      "needs_background": "light"
     },
     "output_type": "display_data"
    }
   ],
   "source": [
    "#3rd assumption: failed \n",
    "#4th assumption: Normal distribution curve\n",
    "sns.histplot(residual)\n",
    "print(residual.skew())\n",
    "plt.show()\n",
    "\n",
    "#distplot\n",
    "sns.distplot(residual)\n",
    "plt.show()"
   ]
  },
  {
   "cell_type": "code",
   "execution_count": 114,
   "id": "3b0869a9",
   "metadata": {},
   "outputs": [],
   "source": [
    "#4th assumption also failed as positive skewness present\n",
    "#we start again with degree as 3 and restart and run all"
   ]
  },
  {
   "cell_type": "code",
   "execution_count": 115,
   "id": "794c55d1",
   "metadata": {},
   "outputs": [
    {
     "data": {
      "text/plain": [
       "0.04919605325436231"
      ]
     },
     "execution_count": 115,
     "metadata": {},
     "output_type": "execute_result"
    }
   ],
   "source": [
    "residual.mean()"
   ]
  },
  {
   "cell_type": "code",
   "execution_count": 116,
   "id": "b874729f",
   "metadata": {},
   "outputs": [
    {
     "data": {
      "text/plain": [
       "-0.013193667903631301"
      ]
     },
     "execution_count": 116,
     "metadata": {},
     "output_type": "execute_result"
    }
   ],
   "source": [
    "residual.median()"
   ]
  },
  {
   "cell_type": "code",
   "execution_count": 118,
   "id": "407fb87a",
   "metadata": {},
   "outputs": [],
   "source": [
    "#Now we check with degree 4 just to be sure and try to reduce the skewness even more\n",
    "#Degree 4 made no difference so we stick with degree 3"
   ]
  }
 ],
 "metadata": {
  "kernelspec": {
   "display_name": "Python 3 (ipykernel)",
   "language": "python",
   "name": "python3"
  },
  "language_info": {
   "codemirror_mode": {
    "name": "ipython",
    "version": 3
   },
   "file_extension": ".py",
   "mimetype": "text/x-python",
   "name": "python",
   "nbconvert_exporter": "python",
   "pygments_lexer": "ipython3",
   "version": "3.9.7"
  }
 },
 "nbformat": 4,
 "nbformat_minor": 5
}
