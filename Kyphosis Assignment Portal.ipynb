{
 "cells": [
  {
   "cell_type": "code",
   "execution_count": 1,
   "id": "ad5aabae",
   "metadata": {},
   "outputs": [],
   "source": [
    "# Let's Load all Library\n",
    "import numpy as np\n",
    "import pandas as pd\n",
    "import matplotlib.pyplot as  plt\n",
    "import seaborn as sb\n",
    "import warnings\n",
    "warnings.filterwarnings('ignore')"
   ]
  },
  {
   "cell_type": "code",
   "execution_count": 2,
   "id": "3ac761ad",
   "metadata": {},
   "outputs": [
    {
     "data": {
      "text/html": [
       "<div>\n",
       "<style scoped>\n",
       "    .dataframe tbody tr th:only-of-type {\n",
       "        vertical-align: middle;\n",
       "    }\n",
       "\n",
       "    .dataframe tbody tr th {\n",
       "        vertical-align: top;\n",
       "    }\n",
       "\n",
       "    .dataframe thead th {\n",
       "        text-align: right;\n",
       "    }\n",
       "</style>\n",
       "<table border=\"1\" class=\"dataframe\">\n",
       "  <thead>\n",
       "    <tr style=\"text-align: right;\">\n",
       "      <th></th>\n",
       "      <th>Kyphosis</th>\n",
       "      <th>Age</th>\n",
       "      <th>Number</th>\n",
       "      <th>Start</th>\n",
       "    </tr>\n",
       "  </thead>\n",
       "  <tbody>\n",
       "    <tr>\n",
       "      <th>0</th>\n",
       "      <td>absent</td>\n",
       "      <td>71</td>\n",
       "      <td>3</td>\n",
       "      <td>5</td>\n",
       "    </tr>\n",
       "    <tr>\n",
       "      <th>1</th>\n",
       "      <td>absent</td>\n",
       "      <td>158</td>\n",
       "      <td>3</td>\n",
       "      <td>14</td>\n",
       "    </tr>\n",
       "    <tr>\n",
       "      <th>2</th>\n",
       "      <td>present</td>\n",
       "      <td>128</td>\n",
       "      <td>4</td>\n",
       "      <td>5</td>\n",
       "    </tr>\n",
       "    <tr>\n",
       "      <th>3</th>\n",
       "      <td>absent</td>\n",
       "      <td>2</td>\n",
       "      <td>5</td>\n",
       "      <td>1</td>\n",
       "    </tr>\n",
       "    <tr>\n",
       "      <th>4</th>\n",
       "      <td>absent</td>\n",
       "      <td>1</td>\n",
       "      <td>4</td>\n",
       "      <td>15</td>\n",
       "    </tr>\n",
       "  </tbody>\n",
       "</table>\n",
       "</div>"
      ],
      "text/plain": [
       "  Kyphosis  Age  Number  Start\n",
       "0   absent   71       3      5\n",
       "1   absent  158       3     14\n",
       "2  present  128       4      5\n",
       "3   absent    2       5      1\n",
       "4   absent    1       4     15"
      ]
     },
     "execution_count": 2,
     "metadata": {},
     "output_type": "execute_result"
    }
   ],
   "source": [
    "#To load the dataset\n",
    "df=pd.read_csv('kyphosis.csv')\n",
    "df.head()"
   ]
  },
  {
   "cell_type": "code",
   "execution_count": 3,
   "id": "749a3819",
   "metadata": {},
   "outputs": [
    {
     "data": {
      "text/plain": [
       "(81, 4)"
      ]
     },
     "execution_count": 3,
     "metadata": {},
     "output_type": "execute_result"
    }
   ],
   "source": [
    "#To see how many rows and columns in dataset\n",
    "df.shape"
   ]
  },
  {
   "cell_type": "code",
   "execution_count": 5,
   "id": "b852fc34",
   "metadata": {},
   "outputs": [
    {
     "data": {
      "text/html": [
       "<div>\n",
       "<style scoped>\n",
       "    .dataframe tbody tr th:only-of-type {\n",
       "        vertical-align: middle;\n",
       "    }\n",
       "\n",
       "    .dataframe tbody tr th {\n",
       "        vertical-align: top;\n",
       "    }\n",
       "\n",
       "    .dataframe thead th {\n",
       "        text-align: right;\n",
       "    }\n",
       "</style>\n",
       "<table border=\"1\" class=\"dataframe\">\n",
       "  <thead>\n",
       "    <tr style=\"text-align: right;\">\n",
       "      <th></th>\n",
       "      <th>Age</th>\n",
       "      <th>Number</th>\n",
       "      <th>Start</th>\n",
       "    </tr>\n",
       "  </thead>\n",
       "  <tbody>\n",
       "    <tr>\n",
       "      <th>count</th>\n",
       "      <td>81.000000</td>\n",
       "      <td>81.000000</td>\n",
       "      <td>81.000000</td>\n",
       "    </tr>\n",
       "    <tr>\n",
       "      <th>mean</th>\n",
       "      <td>83.654321</td>\n",
       "      <td>4.049383</td>\n",
       "      <td>11.493827</td>\n",
       "    </tr>\n",
       "    <tr>\n",
       "      <th>std</th>\n",
       "      <td>58.104251</td>\n",
       "      <td>1.619423</td>\n",
       "      <td>4.883962</td>\n",
       "    </tr>\n",
       "    <tr>\n",
       "      <th>min</th>\n",
       "      <td>1.000000</td>\n",
       "      <td>2.000000</td>\n",
       "      <td>1.000000</td>\n",
       "    </tr>\n",
       "    <tr>\n",
       "      <th>25%</th>\n",
       "      <td>26.000000</td>\n",
       "      <td>3.000000</td>\n",
       "      <td>9.000000</td>\n",
       "    </tr>\n",
       "    <tr>\n",
       "      <th>50%</th>\n",
       "      <td>87.000000</td>\n",
       "      <td>4.000000</td>\n",
       "      <td>13.000000</td>\n",
       "    </tr>\n",
       "    <tr>\n",
       "      <th>75%</th>\n",
       "      <td>130.000000</td>\n",
       "      <td>5.000000</td>\n",
       "      <td>16.000000</td>\n",
       "    </tr>\n",
       "    <tr>\n",
       "      <th>max</th>\n",
       "      <td>206.000000</td>\n",
       "      <td>10.000000</td>\n",
       "      <td>18.000000</td>\n",
       "    </tr>\n",
       "  </tbody>\n",
       "</table>\n",
       "</div>"
      ],
      "text/plain": [
       "              Age     Number      Start\n",
       "count   81.000000  81.000000  81.000000\n",
       "mean    83.654321   4.049383  11.493827\n",
       "std     58.104251   1.619423   4.883962\n",
       "min      1.000000   2.000000   1.000000\n",
       "25%     26.000000   3.000000   9.000000\n",
       "50%     87.000000   4.000000  13.000000\n",
       "75%    130.000000   5.000000  16.000000\n",
       "max    206.000000  10.000000  18.000000"
      ]
     },
     "execution_count": 5,
     "metadata": {},
     "output_type": "execute_result"
    }
   ],
   "source": [
    "#To see statistical information\n",
    "df.describe()"
   ]
  },
  {
   "cell_type": "code",
   "execution_count": 6,
   "id": "2bb042a3",
   "metadata": {},
   "outputs": [
    {
     "data": {
      "text/plain": [
       "Kyphosis    0\n",
       "Age         0\n",
       "Number      0\n",
       "Start       0\n",
       "dtype: int64"
      ]
     },
     "execution_count": 6,
     "metadata": {},
     "output_type": "execute_result"
    }
   ],
   "source": [
    "#To check the null values\n",
    "df.isnull().sum()"
   ]
  },
  {
   "cell_type": "code",
   "execution_count": 7,
   "id": "4d062518",
   "metadata": {},
   "outputs": [
    {
     "data": {
      "image/png": "[encoded data removed]",
      "text/plain": [
       "<Figure size 432x288 with 2 Axes>"
      ]
     },
     "metadata": {
      "needs_background": "light"
     },
     "output_type": "display_data"
    }
   ],
   "source": [
    "#To visualize the null values if present\n",
    "sb.heatmap(df.isnull())\n",
    "plt.show()"
   ]
  },
  {
   "cell_type": "code",
   "execution_count": 8,
   "id": "531fc7de",
   "metadata": {},
   "outputs": [
    {
     "data": {
      "text/plain": [
       "Kyphosis    object\n",
       "Age          int64\n",
       "Number       int64\n",
       "Start        int64\n",
       "dtype: object"
      ]
     },
     "execution_count": 8,
     "metadata": {},
     "output_type": "execute_result"
    }
   ],
   "source": [
    "#To check the datatypes\n",
    "df.dtypes"
   ]
  },
  {
   "cell_type": "code",
   "execution_count": 9,
   "id": "cccfe970",
   "metadata": {},
   "outputs": [],
   "source": [
    "#Lets convert object into numeric data using label encoder\n",
    "#First calling LabelEncoder class\n",
    "from sklearn.preprocessing import LabelEncoder\n",
    "#creating LabelEncoder object\n",
    "le=LabelEncoder()\n",
    "#Applying it to object having column\n",
    "df['Kyphosis']=le.fit_transform(df['Kyphosis'])\n"
   ]
  },
  {
   "cell_type": "code",
   "execution_count": 10,
   "id": "13a7a876",
   "metadata": {},
   "outputs": [
    {
     "data": {
      "text/plain": [
       "Kyphosis    int32\n",
       "Age         int64\n",
       "Number      int64\n",
       "Start       int64\n",
       "dtype: object"
      ]
     },
     "execution_count": 10,
     "metadata": {},
     "output_type": "execute_result"
    }
   ],
   "source": [
    "#To check datatype again to verify if all colums have numeric data or not\n",
    "df.dtypes"
   ]
  },
  {
   "cell_type": "code",
   "execution_count": 11,
   "id": "135039e7",
   "metadata": {},
   "outputs": [
    {
     "data": {
      "text/plain": [
       "0"
      ]
     },
     "execution_count": 11,
     "metadata": {},
     "output_type": "execute_result"
    }
   ],
   "source": [
    "#To check if duplicate is present or not\n",
    "df.duplicated().sum()"
   ]
  },
  {
   "cell_type": "code",
   "execution_count": 12,
   "id": "2903ff31",
   "metadata": {},
   "outputs": [
    {
     "data": {
      "text/plain": [
       "array([0, 1])"
      ]
     },
     "execution_count": 12,
     "metadata": {},
     "output_type": "execute_result"
    }
   ],
   "source": [
    "#To check how many category does output column have'\n",
    "#Here the output is Kyphosis    \n",
    "df['Kyphosis'].unique()"
   ]
  },
  {
   "cell_type": "code",
   "execution_count": 13,
   "id": "24ef65d4",
   "metadata": {},
   "outputs": [
    {
     "data": {
      "text/plain": [
       "0    64\n",
       "1    17\n",
       "Name: Kyphosis, dtype: int64"
      ]
     },
     "execution_count": 13,
     "metadata": {},
     "output_type": "execute_result"
    }
   ],
   "source": [
    "#To check how many counts of 0 and 1 are there in Kyphosis  column   \n",
    "df['Kyphosis'].value_counts()"
   ]
  },
  {
   "cell_type": "code",
   "execution_count": 14,
   "id": "9300a2de",
   "metadata": {},
   "outputs": [
    {
     "data": {
      "image/png": "[encoded data removed]",
      "text/plain": [
       "<Figure size 432x288 with 1 Axes>"
      ]
     },
     "metadata": {
      "needs_background": "light"
     },
     "output_type": "display_data"
    }
   ],
   "source": [
    "#To visualize the same above using countplot\n",
    "sb.countplot(data=df,x=df['Kyphosis'])\n",
    "f=df['Kyphosis'].value_counts()\n",
    "plt.yticks(f)\n",
    "plt.show()\n",
    "#Here we can see that there is alot of difference between 1 and 0 "
   ]
  },
  {
   "cell_type": "code",
   "execution_count": 15,
   "id": "98d72a49",
   "metadata": {},
   "outputs": [],
   "source": [
    "#To split input and output\n",
    "X=df.drop('Kyphosis',axis=1) #input\n",
    "Y=df['Kyphosis'] #output"
   ]
  },
  {
   "cell_type": "code",
   "execution_count": 16,
   "id": "016129b4",
   "metadata": {},
   "outputs": [],
   "source": [
    "#To split the data into 70% and 30% ratio\n",
    "#First call the class\n",
    "from sklearn.model_selection import train_test_split\n",
    "X_train,X_test,Y_train,Y_test=train_test_split(X,Y,test_size=0.3,random_state=1)"
   ]
  },
  {
   "cell_type": "code",
   "execution_count": 17,
   "id": "90d7a607",
   "metadata": {},
   "outputs": [],
   "source": [
    "#To apply scaling on X_train and X_test columns\n",
    "#Because scaling is not apply in output column\n",
    "#First call the class\n",
    "from sklearn.preprocessing import StandardScaler\n",
    "#create the object\n",
    "ss=StandardScaler()\n",
    "#To apply in on X_train and X_test\n",
    "X_train=ss.fit_transform(X_train)\n",
    "X_test=ss.transform(X_test)"
   ]
  },
  {
   "cell_type": "code",
   "execution_count": 18,
   "id": "b9bad9a0",
   "metadata": {},
   "outputs": [
    {
     "data": {
      "text/plain": [
       "((56, 3), (25, 3), (56,), (25,))"
      ]
     },
     "execution_count": 18,
     "metadata": {},
     "output_type": "execute_result"
    }
   ],
   "source": [
    "#To check the rows and columns after spliting\n",
    "X_train.shape,X_test.shape,Y_train.shape,Y_test.shape"
   ]
  },
  {
   "cell_type": "code",
   "execution_count": 19,
   "id": "7fa9785e",
   "metadata": {},
   "outputs": [],
   "source": [
    "#To create the function to perform task faster\n",
    "#To import cofusion matrix class\n",
    "from sklearn.metrics import confusion_matrix\n",
    "from sklearn.metrics import classification_report\n",
    "def model(object):\n",
    "    #To train the model\n",
    "    object.fit(X_train,Y_train)\n",
    "    #To test the model with 30% data\n",
    "    Y_pred=object.predict(X_test)\n",
    "    #To create the confusion matrix\n",
    "    print(confusion_matrix(Y_test,Y_pred))\n",
    "    print(classification_report(Y_test,Y_pred))\n",
    "    return object"
   ]
  },
  {
   "cell_type": "code",
   "execution_count": 20,
   "id": "e6a99d53",
   "metadata": {},
   "outputs": [],
   "source": [
    "#To apply logistic Regression on the model\n",
    "#First call the class\n",
    "from sklearn.linear_model import LogisticRegression\n",
    "#Create the LogisticRegression object\n",
    "lr=LogisticRegression()"
   ]
  },
  {
   "cell_type": "code",
   "execution_count": 21,
   "id": "df20dd99",
   "metadata": {},
   "outputs": [
    {
     "name": "stdout",
     "output_type": "stream",
     "text": [
      "[[19  0]\n",
      " [ 5  1]]\n",
      "              precision    recall  f1-score   support\n",
      "\n",
      "           0       0.79      1.00      0.88        19\n",
      "           1       1.00      0.17      0.29         6\n",
      "\n",
      "    accuracy                           0.80        25\n",
      "   macro avg       0.90      0.58      0.58        25\n",
      "weighted avg       0.84      0.80      0.74        25\n",
      "\n"
     ]
    }
   ],
   "source": [
    "#To give lr object to the function\n",
    "lr=model(lr)"
   ]
  },
  {
   "cell_type": "code",
   "execution_count": 22,
   "id": "6c2145e1",
   "metadata": {},
   "outputs": [],
   "source": [
    "#Conslusion: Here as we can see that the accuracy is of 1 is not too good\n",
    "#Because the reason would be the data of output was not balance \n",
    "#So we have to first balance the output using RandomOverSampler"
   ]
  },
  {
   "cell_type": "code",
   "execution_count": 23,
   "id": "818a89f7",
   "metadata": {},
   "outputs": [
    {
     "data": {
      "text/plain": [
       "0    64\n",
       "1    17\n",
       "Name: Kyphosis, dtype: int64"
      ]
     },
     "execution_count": 23,
     "metadata": {},
     "output_type": "execute_result"
    }
   ],
   "source": [
    "#To check how many counts of 0 and 1 are there in Kyphosis  column   \n",
    "df['Kyphosis'].value_counts()"
   ]
  },
  {
   "cell_type": "code",
   "execution_count": 24,
   "id": "f95095c8",
   "metadata": {},
   "outputs": [
    {
     "data": {
      "image/png": "[encoded data removed]",
      "text/plain": [
       "<Figure size 432x288 with 1 Axes>"
      ]
     },
     "metadata": {
      "needs_background": "light"
     },
     "output_type": "display_data"
    }
   ],
   "source": [
    "#To visualize the same above using countplot\n",
    "sb.countplot(data=df,x=df['Kyphosis'])\n",
    "f=df['Kyphosis'].value_counts()\n",
    "plt.yticks(f)\n",
    "plt.show()\n",
    "#Here we can see that there is alot of difference between 1 and 0 \n",
    "#Therefore we are getting the accuracy of 1 low\n",
    "#To improve it we are using RandomOverSampler\n",
    "#To balance the output"
   ]
  },
  {
   "cell_type": "code",
   "execution_count": 25,
   "id": "880755dc",
   "metadata": {},
   "outputs": [],
   "source": [
    "#So to use RandomOverSampler we have to import the class\n",
    "from imblearn.over_sampling import RandomOverSampler"
   ]
  },
  {
   "cell_type": "code",
   "execution_count": 26,
   "id": "85107f33",
   "metadata": {},
   "outputs": [],
   "source": [
    "#To create the RandomOverSampler object\n",
    "ros=RandomOverSampler(random_state=1)"
   ]
  },
  {
   "cell_type": "code",
   "execution_count": 27,
   "id": "4e8ae644",
   "metadata": {},
   "outputs": [],
   "source": [
    "#To apply the ros object in training data\n",
    "X_train,Y_train=ros.fit_resample(X_train,Y_train)"
   ]
  },
  {
   "cell_type": "code",
   "execution_count": 28,
   "id": "6f8e8bc1",
   "metadata": {},
   "outputs": [
    {
     "data": {
      "text/plain": [
       "1    45\n",
       "0    45\n",
       "Name: Kyphosis, dtype: int64"
      ]
     },
     "execution_count": 28,
     "metadata": {},
     "output_type": "execute_result"
    }
   ],
   "source": [
    "#After applying ros on training data\n",
    "Y_train.value_counts()\n",
    "#As we can see that after applying randomoversampler the 0 and 1 \n",
    "#values are balanced"
   ]
  },
  {
   "cell_type": "code",
   "execution_count": 29,
   "id": "0fcc9d71",
   "metadata": {},
   "outputs": [],
   "source": [
    "#Applying same of the testing data\n",
    "X_test,Y_test=ros.fit_resample(X_test,Y_test)"
   ]
  },
  {
   "cell_type": "code",
   "execution_count": 30,
   "id": "d8e1ee56",
   "metadata": {},
   "outputs": [
    {
     "data": {
      "text/plain": [
       "0    19\n",
       "1    19\n",
       "Name: Kyphosis, dtype: int64"
      ]
     },
     "execution_count": 30,
     "metadata": {},
     "output_type": "execute_result"
    }
   ],
   "source": [
    "#After applying ros on training data\n",
    "Y_test.value_counts()\n",
    "#Now the values are balanced"
   ]
  },
  {
   "cell_type": "code",
   "execution_count": 31,
   "id": "d7ccbf55",
   "metadata": {},
   "outputs": [],
   "source": [
    "#Giving the balancedata to model function\n",
    "lr=LogisticRegression()"
   ]
  },
  {
   "cell_type": "code",
   "execution_count": 32,
   "id": "2abaed76",
   "metadata": {},
   "outputs": [
    {
     "name": "stdout",
     "output_type": "stream",
     "text": [
      "[[15  4]\n",
      " [14  5]]\n",
      "              precision    recall  f1-score   support\n",
      "\n",
      "           0       0.52      0.79      0.62        19\n",
      "           1       0.56      0.26      0.36        19\n",
      "\n",
      "    accuracy                           0.53        38\n",
      "   macro avg       0.54      0.53      0.49        38\n",
      "weighted avg       0.54      0.53      0.49        38\n",
      "\n"
     ]
    }
   ],
   "source": [
    "lr=model(lr)"
   ]
  },
  {
   "cell_type": "code",
   "execution_count": 33,
   "id": "9a176377",
   "metadata": {},
   "outputs": [],
   "source": [
    "#Conclusion:Now as we can see that the accuracy is good then before but not upto the mark the reason could be overfitting \n",
    "# so to increase the accuracy we have to \n",
    "#do feature selection using DecisionTree because we dont' have to manually select the features\n",
    "#We have the decision tree algorithm"
   ]
  },
  {
   "cell_type": "code",
   "execution_count": 34,
   "id": "29f7ca73",
   "metadata": {},
   "outputs": [],
   "source": [
    "#To import the class of Decision Tree\n",
    "from sklearn.tree import DecisionTreeClassifier"
   ]
  },
  {
   "cell_type": "code",
   "execution_count": 35,
   "id": "45155c8d",
   "metadata": {},
   "outputs": [],
   "source": [
    "#To create the DecisionTreeClassifier\n",
    "dt=DecisionTreeClassifier(random_state=1) #Default using gini index"
   ]
  },
  {
   "cell_type": "code",
   "execution_count": 36,
   "id": "5a731917",
   "metadata": {},
   "outputs": [
    {
     "name": "stdout",
     "output_type": "stream",
     "text": [
      "[[17  2]\n",
      " [12  7]]\n",
      "              precision    recall  f1-score   support\n",
      "\n",
      "           0       0.59      0.89      0.71        19\n",
      "           1       0.78      0.37      0.50        19\n",
      "\n",
      "    accuracy                           0.63        38\n",
      "   macro avg       0.68      0.63      0.60        38\n",
      "weighted avg       0.68      0.63      0.60        38\n",
      "\n"
     ]
    }
   ],
   "source": [
    "#To give the object to function\n",
    "dt=model(dt)"
   ]
  },
  {
   "cell_type": "code",
   "execution_count": 37,
   "id": "b8ebb8a1",
   "metadata": {},
   "outputs": [
    {
     "data": {
      "image/png": "[encoded data removed]",
      "text/plain": [
       "<Figure size 720x720 with 1 Axes>"
      ]
     },
     "metadata": {
      "needs_background": "light"
     },
     "output_type": "display_data"
    }
   ],
   "source": [
    "#create a decision tree \n",
    "from sklearn import tree\n",
    "features=X.columns\n",
    "plt.figure(figsize=(10,10))\n",
    "_=tree.plot_tree(dt,feature_names=features,filled=True)"
   ]
  },
  {
   "cell_type": "code",
   "execution_count": 38,
   "id": "916f426f",
   "metadata": {},
   "outputs": [
    {
     "data": {
      "text/html": [
       "<div>\n",
       "<style scoped>\n",
       "    .dataframe tbody tr th:only-of-type {\n",
       "        vertical-align: middle;\n",
       "    }\n",
       "\n",
       "    .dataframe tbody tr th {\n",
       "        vertical-align: top;\n",
       "    }\n",
       "\n",
       "    .dataframe thead th {\n",
       "        text-align: right;\n",
       "    }\n",
       "</style>\n",
       "<table border=\"1\" class=\"dataframe\">\n",
       "  <thead>\n",
       "    <tr style=\"text-align: right;\">\n",
       "      <th></th>\n",
       "      <th>Input</th>\n",
       "      <th>Ig</th>\n",
       "    </tr>\n",
       "  </thead>\n",
       "  <tbody>\n",
       "    <tr>\n",
       "      <th>0</th>\n",
       "      <td>Start</td>\n",
       "      <td>0.560366</td>\n",
       "    </tr>\n",
       "    <tr>\n",
       "      <th>1</th>\n",
       "      <td>Age</td>\n",
       "      <td>0.365731</td>\n",
       "    </tr>\n",
       "    <tr>\n",
       "      <th>2</th>\n",
       "      <td>Number</td>\n",
       "      <td>0.073903</td>\n",
       "    </tr>\n",
       "  </tbody>\n",
       "</table>\n",
       "</div>"
      ],
      "text/plain": [
       "    Input        Ig\n",
       "0   Start  0.560366\n",
       "1     Age  0.365731\n",
       "2  Number  0.073903"
      ]
     },
     "execution_count": 38,
     "metadata": {},
     "output_type": "execute_result"
    }
   ],
   "source": [
    "#Dataframe of the Information Gain\n",
    "dict={'Input':X.columns,'Ig':dt.feature_importances_}\n",
    "df1=pd.DataFrame(dict)\n",
    "df1.sort_values('Ig',ascending=False,ignore_index=True)"
   ]
  },
  {
   "cell_type": "code",
   "execution_count": 39,
   "id": "b543044b",
   "metadata": {},
   "outputs": [],
   "source": [
    "#Conclusion: As we can see that the score it increase from before \n",
    "#region behind less score , overfit means \n",
    "#model is overfit so reduced the overfitting situation : - \n",
    "#then we use pruning technique "
   ]
  },
  {
   "cell_type": "code",
   "execution_count": 40,
   "id": "b8478123",
   "metadata": {},
   "outputs": [],
   "source": [
    "#Using pruning method \n",
    "#create object of DTC class and pass the parameter\n",
    "#max_depth=8\n",
    "dt1=DecisionTreeClassifier(random_state=1,max_depth=1)"
   ]
  },
  {
   "cell_type": "code",
   "execution_count": 41,
   "id": "a238cd01",
   "metadata": {},
   "outputs": [
    {
     "name": "stdout",
     "output_type": "stream",
     "text": [
      "[[12  7]\n",
      " [ 7 12]]\n",
      "              precision    recall  f1-score   support\n",
      "\n",
      "           0       0.63      0.63      0.63        19\n",
      "           1       0.63      0.63      0.63        19\n",
      "\n",
      "    accuracy                           0.63        38\n",
      "   macro avg       0.63      0.63      0.63        38\n",
      "weighted avg       0.63      0.63      0.63        38\n",
      "\n"
     ]
    }
   ],
   "source": [
    "#Call the function with dt1 object\n",
    "dt1=model(dt1)"
   ]
  },
  {
   "cell_type": "code",
   "execution_count": 42,
   "id": "52890e24",
   "metadata": {},
   "outputs": [
    {
     "data": {
      "image/png": "[encoded data removed]",
      "text/plain": [
       "<Figure size 720x720 with 1 Axes>"
      ]
     },
     "metadata": {
      "needs_background": "light"
     },
     "output_type": "display_data"
    }
   ],
   "source": [
    "#create a decision tree \n",
    "from sklearn import tree\n",
    "features=X.columns\n",
    "plt.figure(figsize=(10,10))\n",
    "_=tree.plot_tree(dt1,feature_names=features,filled=True)"
   ]
  },
  {
   "cell_type": "code",
   "execution_count": 43,
   "id": "54394727",
   "metadata": {},
   "outputs": [],
   "source": [
    "'''\n",
    "Conclusion:\n",
    "Here we have applied pruning and we have seen improvement in the accuracy\n",
    "We got the best accuracy at max_depth 5\n",
    "'''"
   ]
  }
 ],
 "metadata": {
  "kernelspec": {
   "display_name": "Python 3 (ipykernel)",
   "language": "python",
   "name": "python3"
  },
  "language_info": {
   "codemirror_mode": {
    "name": "ipython",
    "version": 3
   },
   "file_extension": ".py",
   "mimetype": "text/x-python",
   "name": "python",
   "nbconvert_exporter": "python",
   "pygments_lexer": "ipython3",
   "version": "3.9.7"
  }
 },
 "nbformat": 4,
 "nbformat_minor": 5
}
